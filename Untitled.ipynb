{
 "cells": [
  {
   "cell_type": "code",
   "execution_count": 1,
   "metadata": {},
   "outputs": [
    {
     "name": "stderr",
     "output_type": "stream",
     "text": [
      "Loading required package: dplyr\n",
      "\n",
      "Attaching package: 'dplyr'\n",
      "\n",
      "The following objects are masked from 'package:stats':\n",
      "\n",
      "    filter, lag\n",
      "\n",
      "The following objects are masked from 'package:base':\n",
      "\n",
      "    intersect, setdiff, setequal, union\n",
      "\n"
     ]
    }
   ],
   "source": [
    "if(!require(dplyr)){install.packages(\"dplyr\"); require(dplyr)}"
   ]
  },
  {
   "cell_type": "code",
   "execution_count": 45,
   "metadata": {},
   "outputs": [],
   "source": [
    "n = c(2, 3, 5) \n",
    "s = c(\"aa\", \"bb\", \"cc\") \n",
    "b = c(TRUE, FALSE, TRUE) \n",
    "test = data.frame(n, s, b) "
   ]
  },
  {
   "cell_type": "code",
   "execution_count": 63,
   "metadata": {},
   "outputs": [
    {
     "data": {
      "text/html": [
       "<table>\n",
       "<thead><tr><th scope=col>n</th><th scope=col>s</th><th scope=col>b</th></tr></thead>\n",
       "<tbody>\n",
       "\t<tr><td>2    </td><td>aa   </td><td> TRUE</td></tr>\n",
       "\t<tr><td>3    </td><td>bb   </td><td>FALSE</td></tr>\n",
       "\t<tr><td>5    </td><td>cc   </td><td> TRUE</td></tr>\n",
       "</tbody>\n",
       "</table>\n"
      ],
      "text/latex": [
       "\\begin{tabular}{r|lll}\n",
       " n & s & b\\\\\n",
       "\\hline\n",
       "\t 2     & aa    &  TRUE\\\\\n",
       "\t 3     & bb    & FALSE\\\\\n",
       "\t 5     & cc    &  TRUE\\\\\n",
       "\\end{tabular}\n"
      ],
      "text/markdown": [
       "\n",
       "n | s | b | \n",
       "|---|---|---|\n",
       "| 2     | aa    |  TRUE | \n",
       "| 3     | bb    | FALSE | \n",
       "| 5     | cc    |  TRUE | \n",
       "\n",
       "\n"
      ],
      "text/plain": [
       "  n s  b    \n",
       "1 2 aa  TRUE\n",
       "2 3 bb FALSE\n",
       "3 5 cc  TRUE"
      ]
     },
     "metadata": {},
     "output_type": "display_data"
    }
   ],
   "source": [
    "test"
   ]
  },
  {
   "cell_type": "code",
   "execution_count": 93,
   "metadata": {},
   "outputs": [],
   "source": [
    "test$s<-as.factor(test$s)\n",
    "ref$s<-as.factor(ref$s)"
   ]
  },
  {
   "cell_type": "code",
   "execution_count": 94,
   "metadata": {},
   "outputs": [
    {
     "name": "stderr",
     "output_type": "stream",
     "text": [
      "Warning message in Ops.factor(test$s, ref$s):\n",
      "\"'-' not meaningful for factors\""
     ]
    },
    {
     "data": {
      "text/html": [
       "<ol class=list-inline>\n",
       "\t<li>&lt;NA&gt;</li>\n",
       "\t<li>&lt;NA&gt;</li>\n",
       "\t<li>&lt;NA&gt;</li>\n",
       "</ol>\n"
      ],
      "text/latex": [
       "\\begin{enumerate*}\n",
       "\\item <NA>\n",
       "\\item <NA>\n",
       "\\item <NA>\n",
       "\\end{enumerate*}\n"
      ],
      "text/markdown": [
       "1. &lt;NA&gt;\n",
       "2. &lt;NA&gt;\n",
       "3. &lt;NA&gt;\n",
       "\n",
       "\n"
      ],
      "text/plain": [
       "[1] NA NA NA"
      ]
     },
     "metadata": {},
     "output_type": "display_data"
    }
   ],
   "source": [
    "test$s-ref$s"
   ]
  },
  {
   "cell_type": "code",
   "execution_count": 65,
   "metadata": {},
   "outputs": [
    {
     "data": {
      "text/html": [
       "<table>\n",
       "<thead><tr><th scope=col>n</th><th scope=col>s</th><th scope=col>b</th></tr></thead>\n",
       "<tbody>\n",
       "\t<tr><td>2    </td><td>aa   </td><td> TRUE</td></tr>\n",
       "\t<tr><td>3    </td><td>bb   </td><td>FALSE</td></tr>\n",
       "\t<tr><td>4    </td><td>ww   </td><td> TRUE</td></tr>\n",
       "</tbody>\n",
       "</table>\n"
      ],
      "text/latex": [
       "\\begin{tabular}{r|lll}\n",
       " n & s & b\\\\\n",
       "\\hline\n",
       "\t 2     & aa    &  TRUE\\\\\n",
       "\t 3     & bb    & FALSE\\\\\n",
       "\t 4     & ww    &  TRUE\\\\\n",
       "\\end{tabular}\n"
      ],
      "text/markdown": [
       "\n",
       "n | s | b | \n",
       "|---|---|---|\n",
       "| 2     | aa    |  TRUE | \n",
       "| 3     | bb    | FALSE | \n",
       "| 4     | ww    |  TRUE | \n",
       "\n",
       "\n"
      ],
      "text/plain": [
       "  n s  b    \n",
       "1 2 aa  TRUE\n",
       "2 3 bb FALSE\n",
       "3 4 ww  TRUE"
      ]
     },
     "metadata": {},
     "output_type": "display_data"
    }
   ],
   "source": [
    "n = c(2, 3, 4) \n",
    "s = c(\"aa\", \"bb\", \"ww\") \n",
    "b = c(TRUE, FALSE, TRUE) \n",
    "ref = data.frame(n, s, b) \n",
    "ref"
   ]
  },
  {
   "cell_type": "code",
   "execution_count": 69,
   "metadata": {},
   "outputs": [
    {
     "data": {
      "text/plain": [
       "       n        s         b          \n",
       " Min.   :2.0   aa:1   Mode :logical  \n",
       " 1st Qu.:2.5   bb:1   FALSE:1        \n",
       " Median :3.0   ww:1   TRUE :2        \n",
       " Mean   :3.0                         \n",
       " 3rd Qu.:3.5                         \n",
       " Max.   :4.0                         "
      ]
     },
     "metadata": {},
     "output_type": "display_data"
    }
   ],
   "source": [
    "summary(ref)"
   ]
  },
  {
   "cell_type": "code",
   "execution_count": 76,
   "metadata": {},
   "outputs": [
    {
     "data": {
      "text/plain": [
       "       n        s         b          \n",
       " Min.   :2.0   aa:1   Mode :logical  \n",
       " 1st Qu.:2.5   bb:1   FALSE:1        \n",
       " Median :3.0   ww:1   TRUE :2        \n",
       " Mean   :3.0                         \n",
       " 3rd Qu.:3.5                         \n",
       " Max.   :4.0                         "
      ]
     },
     "metadata": {},
     "output_type": "display_data"
    }
   ],
   "source": [
    "summary(ref)"
   ]
  },
  {
   "cell_type": "code",
   "execution_count": 66,
   "metadata": {},
   "outputs": [
    {
     "ename": "ERROR",
     "evalue": "Error in Ops.factor(left, right): level sets of factors are different\n",
     "output_type": "error",
     "traceback": [
      "Error in Ops.factor(left, right): level sets of factors are different\nTraceback:\n",
      "1. Ops.data.frame(ref, test)",
      "2. eval(f)",
      "3. eval(f)",
      "4. Ops.factor(left, right)",
      "5. stop(\"level sets of factors are different\")"
     ]
    }
   ],
   "source": []
  },
  {
   "cell_type": "code",
   "execution_count": 54,
   "metadata": {},
   "outputs": [
    {
     "data": {
      "text/html": [
       "FALSE"
      ],
      "text/latex": [
       "FALSE"
      ],
      "text/markdown": [
       "FALSE"
      ],
      "text/plain": [
       "[1] FALSE"
      ]
     },
     "metadata": {},
     "output_type": "display_data"
    }
   ],
   "source": [
    "\n",
    "identical(ref, test)"
   ]
  },
  {
   "cell_type": "code",
   "execution_count": null,
   "metadata": {},
   "outputs": [],
   "source": [
    "lapply(X =test, FUN =   )"
   ]
  },
  {
   "cell_type": "code",
   "execution_count": 106,
   "metadata": {},
   "outputs": [
    {
     "data": {
      "text/html": [
       "3"
      ],
      "text/latex": [
       "3"
      ],
      "text/markdown": [
       "3"
      ],
      "text/plain": [
       "[1] 3"
      ]
     },
     "metadata": {},
     "output_type": "display_data"
    }
   ],
   "source": []
  },
  {
   "cell_type": "code",
   "execution_count": 99,
   "metadata": {},
   "outputs": [
    {
     "data": {
      "text/html": [
       "5"
      ],
      "text/latex": [
       "5"
      ],
      "text/markdown": [
       "5"
      ],
      "text/plain": [
       "[1] 5"
      ]
     },
     "metadata": {},
     "output_type": "display_data"
    }
   ],
   "source": [
    "length(test)"
   ]
  },
  {
   "cell_type": "code",
   "execution_count": 109,
   "metadata": {},
   "outputs": [
    {
     "data": {
      "text/html": [
       "<ol class=list-inline>\n",
       "\t<li>'2 aa TRUE'</li>\n",
       "\t<li>'3 bb FALSE'</li>\n",
       "\t<li>'5 cc TRUE'</li>\n",
       "</ol>\n"
      ],
      "text/latex": [
       "\\begin{enumerate*}\n",
       "\\item '2 aa TRUE'\n",
       "\\item '3 bb FALSE'\n",
       "\\item '5 cc TRUE'\n",
       "\\end{enumerate*}\n"
      ],
      "text/markdown": [
       "1. '2 aa TRUE'\n",
       "2. '3 bb FALSE'\n",
       "3. '5 cc TRUE'\n",
       "\n",
       "\n"
      ],
      "text/plain": [
       "[1] \"2 aa TRUE\"  \"3 bb FALSE\" \"5 cc TRUE\" "
      ]
     },
     "metadata": {},
     "output_type": "display_data"
    },
    {
     "data": {
      "text/html": [
       "<ol class=list-inline>\n",
       "\t<li>'2 aa TRUE'</li>\n",
       "\t<li>'3 bb FALSE'</li>\n",
       "\t<li>'4 ww TRUE'</li>\n",
       "</ol>\n"
      ],
      "text/latex": [
       "\\begin{enumerate*}\n",
       "\\item '2 aa TRUE'\n",
       "\\item '3 bb FALSE'\n",
       "\\item '4 ww TRUE'\n",
       "\\end{enumerate*}\n"
      ],
      "text/markdown": [
       "1. '2 aa TRUE'\n",
       "2. '3 bb FALSE'\n",
       "3. '4 ww TRUE'\n",
       "\n",
       "\n"
      ],
      "text/plain": [
       "[1] \"2 aa TRUE\"  \"3 bb FALSE\" \"4 ww TRUE\" "
      ]
     },
     "metadata": {},
     "output_type": "display_data"
    }
   ],
   "source": [
    "for (i in length(test[,1])) {\n",
    "test$id2<-paste(test[,1],test[,2],test[,3]  ) }\n",
    "test$id2\n",
    "for (i in length(ref[,1])) {\n",
    "ref$id2<-paste(ref[,1],ref[,2],ref[,3]  ) }\n",
    "ref$id2"
   ]
  },
  {
   "cell_type": "code",
   "execution_count": 111,
   "metadata": {},
   "outputs": [
    {
     "data": {
      "text/html": [
       "<table>\n",
       "<thead><tr><th scope=col>n</th><th scope=col>s</th><th scope=col>b</th><th scope=col>id</th><th scope=col>id2</th></tr></thead>\n",
       "<tbody>\n",
       "\t<tr><td>2         </td><td>aa        </td><td> TRUE     </td><td>2 aa TRUE </td><td>2 aa TRUE </td></tr>\n",
       "\t<tr><td>3         </td><td>bb        </td><td>FALSE     </td><td>3 bb FALSE</td><td>3 bb FALSE</td></tr>\n",
       "\t<tr><td>5         </td><td>cc        </td><td> TRUE     </td><td>5 cc TRUE </td><td>5 cc TRUE </td></tr>\n",
       "</tbody>\n",
       "</table>\n"
      ],
      "text/latex": [
       "\\begin{tabular}{r|lllll}\n",
       " n & s & b & id & id2\\\\\n",
       "\\hline\n",
       "\t 2          & aa         &  TRUE      & 2 aa TRUE  & 2 aa TRUE \\\\\n",
       "\t 3          & bb         & FALSE      & 3 bb FALSE & 3 bb FALSE\\\\\n",
       "\t 5          & cc         &  TRUE      & 5 cc TRUE  & 5 cc TRUE \\\\\n",
       "\\end{tabular}\n"
      ],
      "text/markdown": [
       "\n",
       "n | s | b | id | id2 | \n",
       "|---|---|---|\n",
       "| 2          | aa         |  TRUE      | 2 aa TRUE  | 2 aa TRUE  | \n",
       "| 3          | bb         | FALSE      | 3 bb FALSE | 3 bb FALSE | \n",
       "| 5          | cc         |  TRUE      | 5 cc TRUE  | 5 cc TRUE  | \n",
       "\n",
       "\n"
      ],
      "text/plain": [
       "  n s  b     id         id2       \n",
       "1 2 aa  TRUE 2 aa TRUE  2 aa TRUE \n",
       "2 3 bb FALSE 3 bb FALSE 3 bb FALSE\n",
       "3 5 cc  TRUE 5 cc TRUE  5 cc TRUE "
      ]
     },
     "metadata": {},
     "output_type": "display_data"
    }
   ],
   "source": [
    "test"
   ]
  },
  {
   "cell_type": "code",
   "execution_count": 80,
   "metadata": {},
   "outputs": [],
   "source": [
    "test$id<-paste(test$n,test$s,test$b  )\n",
    "ref$id<-paste(ref$n,ref$s,ref$b  )"
   ]
  },
  {
   "cell_type": "code",
   "execution_count": 112,
   "metadata": {},
   "outputs": [
    {
     "data": {
      "text/html": [
       "<table>\n",
       "<thead><tr><th scope=col>n.x</th><th scope=col>s.x</th><th scope=col>b.x</th><th scope=col>id.x</th><th scope=col>id2</th><th scope=col>n.y</th><th scope=col>s.y</th><th scope=col>b.y</th><th scope=col>id.y</th></tr></thead>\n",
       "<tbody>\n",
       "\t<tr><td>2         </td><td>aa        </td><td> TRUE     </td><td>2 aa TRUE </td><td>2 aa TRUE </td><td> 2        </td><td>aa        </td><td> TRUE     </td><td>2 aa TRUE </td></tr>\n",
       "\t<tr><td>3         </td><td>bb        </td><td>FALSE     </td><td>3 bb FALSE</td><td>3 bb FALSE</td><td> 3        </td><td>bb        </td><td>FALSE     </td><td>3 bb FALSE</td></tr>\n",
       "\t<tr><td>5         </td><td>cc        </td><td> TRUE     </td><td>5 cc TRUE </td><td>5 cc TRUE </td><td>NA        </td><td>NA        </td><td>   NA     </td><td>NA        </td></tr>\n",
       "</tbody>\n",
       "</table>\n"
      ],
      "text/latex": [
       "\\begin{tabular}{r|lllllllll}\n",
       " n.x & s.x & b.x & id.x & id2 & n.y & s.y & b.y & id.y\\\\\n",
       "\\hline\n",
       "\t 2          & aa         &  TRUE      & 2 aa TRUE  & 2 aa TRUE  &  2         & aa         &  TRUE      & 2 aa TRUE \\\\\n",
       "\t 3          & bb         & FALSE      & 3 bb FALSE & 3 bb FALSE &  3         & bb         & FALSE      & 3 bb FALSE\\\\\n",
       "\t 5          & cc         &  TRUE      & 5 cc TRUE  & 5 cc TRUE  & NA         & NA         &    NA      & NA        \\\\\n",
       "\\end{tabular}\n"
      ],
      "text/markdown": [
       "\n",
       "n.x | s.x | b.x | id.x | id2 | n.y | s.y | b.y | id.y | \n",
       "|---|---|---|\n",
       "| 2          | aa         |  TRUE      | 2 aa TRUE  | 2 aa TRUE  |  2         | aa         |  TRUE      | 2 aa TRUE  | \n",
       "| 3          | bb         | FALSE      | 3 bb FALSE | 3 bb FALSE |  3         | bb         | FALSE      | 3 bb FALSE | \n",
       "| 5          | cc         |  TRUE      | 5 cc TRUE  | 5 cc TRUE  | NA         | NA         |    NA      | NA         | \n",
       "\n",
       "\n"
      ],
      "text/plain": [
       "  n.x s.x b.x   id.x       id2        n.y s.y b.y   id.y      \n",
       "1 2   aa   TRUE 2 aa TRUE  2 aa TRUE   2  aa   TRUE 2 aa TRUE \n",
       "2 3   bb  FALSE 3 bb FALSE 3 bb FALSE  3  bb  FALSE 3 bb FALSE\n",
       "3 5   cc   TRUE 5 cc TRUE  5 cc TRUE  NA  NA     NA NA        "
      ]
     },
     "metadata": {},
     "output_type": "display_data"
    },
    {
     "data": {
      "text/html": [
       "<ol class=list-inline>\n",
       "\t<li>FALSE</li>\n",
       "\t<li>FALSE</li>\n",
       "\t<li>TRUE</li>\n",
       "</ol>\n"
      ],
      "text/latex": [
       "\\begin{enumerate*}\n",
       "\\item FALSE\n",
       "\\item FALSE\n",
       "\\item TRUE\n",
       "\\end{enumerate*}\n"
      ],
      "text/markdown": [
       "1. FALSE\n",
       "2. FALSE\n",
       "3. TRUE\n",
       "\n",
       "\n"
      ],
      "text/plain": [
       "[1] FALSE FALSE  TRUE"
      ]
     },
     "metadata": {},
     "output_type": "display_data"
    },
    {
     "data": {
      "text/html": [
       "<table>\n",
       "<thead><tr><th scope=col>b</th></tr></thead>\n",
       "<tbody>\n",
       "\t<tr><td> TRUE</td></tr>\n",
       "\t<tr><td>FALSE</td></tr>\n",
       "\t<tr><td> TRUE</td></tr>\n",
       "</tbody>\n",
       "</table>\n"
      ],
      "text/latex": [
       "\\begin{tabular}{r|l}\n",
       " b\\\\\n",
       "\\hline\n",
       "\t  TRUE\\\\\n",
       "\t FALSE\\\\\n",
       "\t  TRUE\\\\\n",
       "\\end{tabular}\n"
      ],
      "text/markdown": [
       "\n",
       "b | \n",
       "|---|---|---|\n",
       "|  TRUE | \n",
       "| FALSE | \n",
       "|  TRUE | \n",
       "\n",
       "\n"
      ],
      "text/plain": [
       "  b    \n",
       "1  TRUE\n",
       "2 FALSE\n",
       "3  TRUE"
      ]
     },
     "metadata": {},
     "output_type": "display_data"
    },
    {
     "data": {
      "text/html": [
       "<table>\n",
       "<thead><tr><th></th><th scope=col>n</th><th scope=col>s</th><th scope=col>b</th><th scope=col>id</th><th scope=col>id2</th></tr></thead>\n",
       "<tbody>\n",
       "\t<tr><th scope=row>3</th><td>5        </td><td>cc       </td><td>TRUE     </td><td>5 cc TRUE</td><td>5 cc TRUE</td></tr>\n",
       "</tbody>\n",
       "</table>\n"
      ],
      "text/latex": [
       "\\begin{tabular}{r|lllll}\n",
       "  & n & s & b & id & id2\\\\\n",
       "\\hline\n",
       "\t3 & 5         & cc        & TRUE      & 5 cc TRUE & 5 cc TRUE\\\\\n",
       "\\end{tabular}\n"
      ],
      "text/markdown": [
       "\n",
       "| <!--/--> | n | s | b | id | id2 | \n",
       "|---|\n",
       "| 3 | 5         | cc        | TRUE      | 5 cc TRUE | 5 cc TRUE | \n",
       "\n",
       "\n"
      ],
      "text/plain": [
       "  n s  b    id        id2      \n",
       "3 5 cc TRUE 5 cc TRUE 5 cc TRUE"
      ]
     },
     "metadata": {},
     "output_type": "display_data"
    }
   ],
   "source": [
    "for_un_match<-test %>% left_join(ref, by = \"id2\")\n",
    "for_un_match\n",
    "un_match<-is.na(for_un_match$n.y)\n",
    "un_match\n",
    "test[un_match]\n",
    "test[un_match,]"
   ]
  },
  {
   "cell_type": "code",
   "execution_count": null,
   "metadata": {},
   "outputs": [],
   "source": []
  },
  {
   "cell_type": "code",
   "execution_count": null,
   "metadata": {},
   "outputs": [],
   "source": []
  },
  {
   "cell_type": "code",
   "execution_count": null,
   "metadata": {},
   "outputs": [],
   "source": []
  },
  {
   "cell_type": "code",
   "execution_count": 59,
   "metadata": {},
   "outputs": [
    {
     "ename": "ERROR",
     "evalue": "Error in Ops.factor(left, right): level sets of factors are different\n",
     "output_type": "error",
     "traceback": [
      "Error in Ops.factor(left, right): level sets of factors are different\nTraceback:\n",
      "1. Ops.data.frame(ref, test)",
      "2. eval(f)",
      "3. eval(f)",
      "4. Ops.factor(left, right)",
      "5. stop(\"level sets of factors are different\")"
     ]
    }
   ],
   "source": [
    "ref== test"
   ]
  },
  {
   "cell_type": "code",
   "execution_count": 23,
   "metadata": {},
   "outputs": [],
   "source": [
    "df<- data.frame(ref,test)"
   ]
  },
  {
   "cell_type": "code",
   "execution_count": 24,
   "metadata": {},
   "outputs": [
    {
     "data": {
      "text/html": [
       "<table>\n",
       "<thead><tr><th scope=col>n</th><th scope=col>s</th><th scope=col>b</th><th scope=col>n.1</th><th scope=col>s.1</th><th scope=col>b.1</th></tr></thead>\n",
       "<tbody>\n",
       "\t<tr><td>2    </td><td>aa   </td><td> TRUE</td><td>2    </td><td>aa   </td><td> TRUE</td></tr>\n",
       "\t<tr><td>3    </td><td>bb   </td><td>FALSE</td><td>3    </td><td>bb   </td><td>FALSE</td></tr>\n",
       "\t<tr><td>4    </td><td>ww   </td><td> TRUE</td><td>5    </td><td>cc   </td><td> TRUE</td></tr>\n",
       "</tbody>\n",
       "</table>\n"
      ],
      "text/latex": [
       "\\begin{tabular}{r|llllll}\n",
       " n & s & b & n.1 & s.1 & b.1\\\\\n",
       "\\hline\n",
       "\t 2     & aa    &  TRUE & 2     & aa    &  TRUE\\\\\n",
       "\t 3     & bb    & FALSE & 3     & bb    & FALSE\\\\\n",
       "\t 4     & ww    &  TRUE & 5     & cc    &  TRUE\\\\\n",
       "\\end{tabular}\n"
      ],
      "text/markdown": [
       "\n",
       "n | s | b | n.1 | s.1 | b.1 | \n",
       "|---|---|---|\n",
       "| 2     | aa    |  TRUE | 2     | aa    |  TRUE | \n",
       "| 3     | bb    | FALSE | 3     | bb    | FALSE | \n",
       "| 4     | ww    |  TRUE | 5     | cc    |  TRUE | \n",
       "\n",
       "\n"
      ],
      "text/plain": [
       "  n s  b     n.1 s.1 b.1  \n",
       "1 2 aa  TRUE 2   aa   TRUE\n",
       "2 3 bb FALSE 3   bb  FALSE\n",
       "3 4 ww  TRUE 5   cc   TRUE"
      ]
     },
     "metadata": {},
     "output_type": "display_data"
    }
   ],
   "source": [
    "df"
   ]
  },
  {
   "cell_type": "code",
   "execution_count": 30,
   "metadata": {},
   "outputs": [
    {
     "name": "stderr",
     "output_type": "stream",
     "text": [
      "Warning message in Ops.factor(ref$n, ref$s):\n",
      "\"'&' not meaningful for factors\""
     ]
    }
   ],
   "source": []
  },
  {
   "cell_type": "code",
   "execution_count": 31,
   "metadata": {},
   "outputs": [
    {
     "data": {
      "text/html": [
       "<ol class=list-inline>\n",
       "\t<li>&lt;NA&gt;</li>\n",
       "\t<li>&lt;NA&gt;</li>\n",
       "\t<li>&lt;NA&gt;</li>\n",
       "</ol>\n"
      ],
      "text/latex": [
       "\\begin{enumerate*}\n",
       "\\item <NA>\n",
       "\\item <NA>\n",
       "\\item <NA>\n",
       "\\end{enumerate*}\n"
      ],
      "text/markdown": [
       "1. &lt;NA&gt;\n",
       "2. &lt;NA&gt;\n",
       "3. &lt;NA&gt;\n",
       "\n",
       "\n"
      ],
      "text/plain": [
       "[1] NA NA NA"
      ]
     },
     "metadata": {},
     "output_type": "display_data"
    }
   ],
   "source": [
    "ref$all"
   ]
  },
  {
   "cell_type": "code",
   "execution_count": null,
   "metadata": {},
   "outputs": [],
   "source": [
    "lenth()"
   ]
  },
  {
   "cell_type": "code",
   "execution_count": 58,
   "metadata": {},
   "outputs": [
    {
     "data": {
      "text/html": [
       "<table>\n",
       "<thead><tr><th scope=col>n</th><th scope=col>s.x</th><th scope=col>b.x</th><th scope=col>s.y</th><th scope=col>b.y</th></tr></thead>\n",
       "<tbody>\n",
       "\t<tr><td>2    </td><td>aa   </td><td> TRUE</td><td>aa   </td><td> TRUE</td></tr>\n",
       "\t<tr><td>3    </td><td>bb   </td><td>FALSE</td><td>bb   </td><td>FALSE</td></tr>\n",
       "\t<tr><td>5    </td><td>cc   </td><td> TRUE</td><td>NA   </td><td>   NA</td></tr>\n",
       "</tbody>\n",
       "</table>\n"
      ],
      "text/latex": [
       "\\begin{tabular}{r|lllll}\n",
       " n & s.x & b.x & s.y & b.y\\\\\n",
       "\\hline\n",
       "\t 2     & aa    &  TRUE & aa    &  TRUE\\\\\n",
       "\t 3     & bb    & FALSE & bb    & FALSE\\\\\n",
       "\t 5     & cc    &  TRUE & NA    &    NA\\\\\n",
       "\\end{tabular}\n"
      ],
      "text/markdown": [
       "\n",
       "n | s.x | b.x | s.y | b.y | \n",
       "|---|---|---|\n",
       "| 2     | aa    |  TRUE | aa    |  TRUE | \n",
       "| 3     | bb    | FALSE | bb    | FALSE | \n",
       "| 5     | cc    |  TRUE | NA    |    NA | \n",
       "\n",
       "\n"
      ],
      "text/plain": [
       "  n s.x b.x   s.y b.y  \n",
       "1 2 aa   TRUE aa   TRUE\n",
       "2 3 bb  FALSE bb  FALSE\n",
       "3 5 cc   TRUE NA     NA"
      ]
     },
     "metadata": {},
     "output_type": "display_data"
    }
   ],
   "source": [
    "a<-test %>% left_join(ref,by =c(\"n\") )\n",
    "a"
   ]
  },
  {
   "cell_type": "code",
   "execution_count": null,
   "metadata": {},
   "outputs": [],
   "source": [
    "ref<-read.csv(\"\")\n",
    "test<-read.csv(\"\")"
   ]
  },
  {
   "cell_type": "code",
   "execution_count": null,
   "metadata": {},
   "outputs": [],
   "source": [
    "ref.join\n"
   ]
  },
  {
   "cell_type": "code",
   "execution_count": null,
   "metadata": {},
   "outputs": [],
   "source": [
    "in %>%"
   ]
  }
 ],
 "metadata": {
  "kernelspec": {
   "display_name": "R",
   "language": "R",
   "name": "ir"
  },
  "language_info": {
   "codemirror_mode": "r",
   "file_extension": ".r",
   "mimetype": "text/x-r-source",
   "name": "R",
   "pygments_lexer": "r",
   "version": "3.4.3"
  }
 },
 "nbformat": 4,
 "nbformat_minor": 2
}
