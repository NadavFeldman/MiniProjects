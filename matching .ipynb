{
 "cells": [
  {
   "cell_type": "markdown",
   "metadata": {},
   "source": [
    "### ref vs test:  matching and unmatching fuction\n",
    "function that takes test and ref dataframes with the same size and the same columns, and sortint the test lines to\n",
    "lines that identical to at list 1 of the ref lines and lines that isn't."
   ]
  },
  {
   "cell_type": "code",
   "execution_count": 350,
   "metadata": {},
   "outputs": [],
   "source": [
    "##ref vs test_function\n",
    "matching_fun<- function(test, ref){\n",
    "    #generate id\n",
    "    cols<-colnames(test)\n",
    "    test$id2 <-apply( test[ , cols ],1 , paste, collapse = \"-\" )\n",
    "    ref$id2 <- apply( ref[ , cols ],1 , paste, collapse = \"-\"  )\n",
    "    \n",
    "    \n",
    "    #match and unmatch\n",
    "    for_un_match<-merge(test,ref, by = \"id2\",all.x = TRUE)\n",
    "    un_match<-is.na(for_un_match[,length(for_un_match)])\n",
    "    \n",
    "    match_df<-test[!un_match,colnames(test)!=\"id2\"]\n",
    "    unmatch_df<-test[un_match,colnames(test)!=\"id2\"]\n",
    "\n",
    "    res<-list(\"match\"= match_df,\"unmatch\"= unmatch_df )\n",
    "    \n",
    "    return(res)\n",
    " \n",
    "}\n",
    "    "
   ]
  },
  {
   "cell_type": "code",
   "execution_count": 351,
   "metadata": {},
   "outputs": [
    {
     "data": {
      "text/html": [
       "<table>\n",
       "<thead><tr><th scope=col>n</th><th scope=col>s</th><th scope=col>b</th></tr></thead>\n",
       "<tbody>\n",
       "\t<tr><td>2    </td><td>aa   </td><td> TRUE</td></tr>\n",
       "\t<tr><td>3    </td><td>bb   </td><td>FALSE</td></tr>\n",
       "\t<tr><td>5    </td><td>cc   </td><td> TRUE</td></tr>\n",
       "</tbody>\n",
       "</table>\n"
      ],
      "text/latex": [
       "\\begin{tabular}{r|lll}\n",
       " n & s & b\\\\\n",
       "\\hline\n",
       "\t 2     & aa    &  TRUE\\\\\n",
       "\t 3     & bb    & FALSE\\\\\n",
       "\t 5     & cc    &  TRUE\\\\\n",
       "\\end{tabular}\n"
      ],
      "text/markdown": [
       "\n",
       "n | s | b | \n",
       "|---|---|---|\n",
       "| 2     | aa    |  TRUE | \n",
       "| 3     | bb    | FALSE | \n",
       "| 5     | cc    |  TRUE | \n",
       "\n",
       "\n"
      ],
      "text/plain": [
       "  n s  b    \n",
       "1 2 aa  TRUE\n",
       "2 3 bb FALSE\n",
       "3 5 cc  TRUE"
      ]
     },
     "metadata": {},
     "output_type": "display_data"
    },
    {
     "data": {
      "text/html": [
       "<table>\n",
       "<thead><tr><th scope=col>n</th><th scope=col>s</th><th scope=col>b</th></tr></thead>\n",
       "<tbody>\n",
       "\t<tr><td>2    </td><td>aa   </td><td> TRUE</td></tr>\n",
       "\t<tr><td>3    </td><td>bb   </td><td>FALSE</td></tr>\n",
       "\t<tr><td>4    </td><td>ww   </td><td> TRUE</td></tr>\n",
       "</tbody>\n",
       "</table>\n"
      ],
      "text/latex": [
       "\\begin{tabular}{r|lll}\n",
       " n & s & b\\\\\n",
       "\\hline\n",
       "\t 2     & aa    &  TRUE\\\\\n",
       "\t 3     & bb    & FALSE\\\\\n",
       "\t 4     & ww    &  TRUE\\\\\n",
       "\\end{tabular}\n"
      ],
      "text/markdown": [
       "\n",
       "n | s | b | \n",
       "|---|---|---|\n",
       "| 2     | aa    |  TRUE | \n",
       "| 3     | bb    | FALSE | \n",
       "| 4     | ww    |  TRUE | \n",
       "\n",
       "\n"
      ],
      "text/plain": [
       "  n s  b    \n",
       "1 2 aa  TRUE\n",
       "2 3 bb FALSE\n",
       "3 4 ww  TRUE"
      ]
     },
     "metadata": {},
     "output_type": "display_data"
    }
   ],
   "source": [
    "#test\n",
    "n = c(2, 3, 5) \n",
    "s = c(\"aa\", \"bb\", \"cc\") \n",
    "b = c(TRUE, FALSE, TRUE) \n",
    "test = data.frame(n, s, b)\n",
    "test\n",
    "#ref\n",
    "n = c(2, 3, 4) \n",
    "s = c(\"aa\", \"bb\", \"ww\") \n",
    "b = c(TRUE, FALSE, TRUE) \n",
    "ref = data.frame(n, s, b) \n",
    "ref\n"
   ]
  },
  {
   "cell_type": "code",
   "execution_count": 352,
   "metadata": {},
   "outputs": [
    {
     "data": {
      "text/html": [
       "<dl>\n",
       "\t<dt>$match</dt>\n",
       "\t\t<dd><table>\n",
       "<thead><tr><th scope=col>n</th><th scope=col>s</th><th scope=col>b</th></tr></thead>\n",
       "<tbody>\n",
       "\t<tr><td>2    </td><td>aa   </td><td> TRUE</td></tr>\n",
       "\t<tr><td>3    </td><td>bb   </td><td>FALSE</td></tr>\n",
       "</tbody>\n",
       "</table>\n",
       "</dd>\n",
       "\t<dt>$unmatch</dt>\n",
       "\t\t<dd><table>\n",
       "<thead><tr><th></th><th scope=col>n</th><th scope=col>s</th><th scope=col>b</th></tr></thead>\n",
       "<tbody>\n",
       "\t<tr><th scope=row>3</th><td>5   </td><td>cc  </td><td>TRUE</td></tr>\n",
       "</tbody>\n",
       "</table>\n",
       "</dd>\n",
       "</dl>\n"
      ],
      "text/latex": [
       "\\begin{description}\n",
       "\\item[\\$match] \\begin{tabular}{r|lll}\n",
       " n & s & b\\\\\n",
       "\\hline\n",
       "\t 2     & aa    &  TRUE\\\\\n",
       "\t 3     & bb    & FALSE\\\\\n",
       "\\end{tabular}\n",
       "\n",
       "\\item[\\$unmatch] \\begin{tabular}{r|lll}\n",
       "  & n & s & b\\\\\n",
       "\\hline\n",
       "\t3 & 5    & cc   & TRUE\\\\\n",
       "\\end{tabular}\n",
       "\n",
       "\\end{description}\n"
      ],
      "text/markdown": [
       "$match\n",
       ":   \n",
       "n | s | b | \n",
       "|---|---|\n",
       "| 2     | aa    |  TRUE | \n",
       "| 3     | bb    | FALSE | \n",
       "\n",
       "\n",
       "\n",
       "$unmatch\n",
       ":   \n",
       "| <!--/--> | n | s | b | \n",
       "|---|\n",
       "| 3 | 5    | cc   | TRUE | \n",
       "\n",
       "\n",
       "\n",
       "\n",
       "\n"
      ],
      "text/plain": [
       "$match\n",
       "  n  s     b\n",
       "1 2 aa  TRUE\n",
       "2 3 bb FALSE\n",
       "\n",
       "$unmatch\n",
       "  n  s    b\n",
       "3 5 cc TRUE\n"
      ]
     },
     "metadata": {},
     "output_type": "display_data"
    }
   ],
   "source": [
    "results<-matching_fun(test, ref)\n",
    "results"
   ]
  },
  {
   "cell_type": "code",
   "execution_count": 353,
   "metadata": {},
   "outputs": [
    {
     "data": {
      "text/html": [
       "<table>\n",
       "<thead><tr><th scope=col>n</th><th scope=col>s</th><th scope=col>b</th></tr></thead>\n",
       "<tbody>\n",
       "\t<tr><td>2    </td><td>aa   </td><td> TRUE</td></tr>\n",
       "\t<tr><td>3    </td><td>bb   </td><td>FALSE</td></tr>\n",
       "</tbody>\n",
       "</table>\n"
      ],
      "text/latex": [
       "\\begin{tabular}{r|lll}\n",
       " n & s & b\\\\\n",
       "\\hline\n",
       "\t 2     & aa    &  TRUE\\\\\n",
       "\t 3     & bb    & FALSE\\\\\n",
       "\\end{tabular}\n"
      ],
      "text/markdown": [
       "\n",
       "n | s | b | \n",
       "|---|---|\n",
       "| 2     | aa    |  TRUE | \n",
       "| 3     | bb    | FALSE | \n",
       "\n",
       "\n"
      ],
      "text/plain": [
       "  n s  b    \n",
       "1 2 aa  TRUE\n",
       "2 3 bb FALSE"
      ]
     },
     "metadata": {},
     "output_type": "display_data"
    }
   ],
   "source": [
    "results$match"
   ]
  }
 ],
 "metadata": {
  "kernelspec": {
   "display_name": "R",
   "language": "R",
   "name": "ir"
  },
  "language_info": {
   "codemirror_mode": "r",
   "file_extension": ".r",
   "mimetype": "text/x-r-source",
   "name": "R",
   "pygments_lexer": "r",
   "version": "3.4.3"
  }
 },
 "nbformat": 4,
 "nbformat_minor": 2
}
